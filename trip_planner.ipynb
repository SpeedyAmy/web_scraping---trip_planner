{
 "cells": [
  {
   "cell_type": "markdown",
   "metadata": {
    "tags": []
   },
   "source": [
    "# Projet KAYAK"
   ]
  },
  {
   "cell_type": "code",
   "execution_count": 1,
   "metadata": {},
   "outputs": [],
   "source": [
    "#installing scrappy\n",
    "!pip install Scrapy -q"
   ]
  },
  {
   "cell_type": "code",
   "execution_count": 2,
   "metadata": {
    "tags": []
   },
   "outputs": [],
   "source": [
    "#importing libraries \n",
    "import os\n",
    "import logging\n",
    "import scrapy\n",
    "from scrapy.crawler import CrawlerProcess\n",
    "import pandas as pd\n",
    "import plotly.express as px\n",
    "import plotly.io as pio\n",
    "pio.renderers.default = \"iframe_connected\"\n",
    "import requests\n",
    "from datetime import datetime"
   ]
  },
  {
   "cell_type": "code",
   "execution_count": 3,
   "metadata": {
    "tags": []
   },
   "outputs": [],
   "source": [
    "#list of cities in France to recommand \n",
    "cities = [\"Mont Saint Michel\", \"Saint Malo\", \"Bayeux\", \"Le Havre\", \"Rouen\", \"Paris\", \"Amiens\", \"Lille\", \"Strasbourg\",\n",
    "            \"Chateau du Haut Koenigsbourg\", \"Colmar\", \"Eguisheim\", \"Besancon\", \"Dijon\", \"Annecy\", \"Grenoble\", \"Lyon\",\n",
    "            \"Gorges du Verdon\", \"Bormes les Mimosas\", \"Cassis\", \"Marseille\", \"Aix en Provence\", \"Avignon\", \"Uzes\", \"Nimes\",\n",
    "            \"Aigues Mortes\", \"Saintes Maries de la mer\", \"Collioure\", \"Carcassonne\", \"Ariege\", \"Toulouse\", \"Montauban\",\n",
    "            \"Biarritz\", \"Bayonne\", \"La Rochelle\"]"
   ]
  },
  {
   "cell_type": "markdown",
   "metadata": {
    "tags": []
   },
   "source": [
    "## I- Getting gps coordinates and weather forecast with api query "
   ]
  },
  {
   "cell_type": "code",
   "execution_count": 4,
   "metadata": {},
   "outputs": [
    {
     "data": {
      "text/plain": [
       "[2.3200410217200766, 48.8588897]"
      ]
     },
     "metadata": {},
     "output_type": "display_data"
    }
   ],
   "source": [
    "# First i will develop the code for one city, Paris\n",
    "paris_gps = requests.get(\"https://nominatim.openstreetmap.org/search?q=Paris+France&format=geojson\").json()['features'][0]['geometry']['coordinates']\n",
    "display(paris_gps)"
   ]
  },
  {
   "cell_type": "code",
   "execution_count": 5,
   "metadata": {},
   "outputs": [],
   "source": [
    "# getting weather info from api.openweathermap with the gps coordinates \n",
    "key = \"274c0a55230e8d4d1cb650d6dfd9b351\"\n",
    "r = requests.get(\"https://api.openweathermap.org/data/2.5/onecall?lat={}&lon={}&exclude=current,minutely,hourly,alerts&units=metric&appid={}\".format(paris_gps[1],paris_gps[0], key)).json()"
   ]
  },
  {
   "cell_type": "code",
   "execution_count": 6,
   "metadata": {},
   "outputs": [
    {
     "data": {
      "text/plain": [
       "{'lat': 48.8589,\n",
       " 'lon': 2.32,\n",
       " 'timezone': 'Europe/Paris',\n",
       " 'timezone_offset': 7200,\n",
       " 'daily': [{'dt': 1652785200,\n",
       "   'sunrise': 1652760404,\n",
       "   'sunset': 1652815662,\n",
       "   'moonrise': 1652823840,\n",
       "   'moonset': 1652762640,\n",
       "   'moon_phase': 0.55,\n",
       "   'temp': {'day': 24.52,\n",
       "    'min': 17.77,\n",
       "    'max': 27.54,\n",
       "    'night': 20.82,\n",
       "    'eve': 26.61,\n",
       "    'morn': 18.93},\n",
       "   'feels_like': {'day': 24.36, 'night': 20.92, 'eve': 26.61, 'morn': 18.76},\n",
       "   'pressure': 1019,\n",
       "   'humidity': 51,\n",
       "   'dew_point': 13.73,\n",
       "   'wind_speed': 3.43,\n",
       "   'wind_deg': 133,\n",
       "   'wind_gust': 7.46,\n",
       "   'weather': [{'id': 500,\n",
       "     'main': 'Rain',\n",
       "     'description': 'light rain',\n",
       "     'icon': '10d'}],\n",
       "   'clouds': 37,\n",
       "   'pop': 0.47,\n",
       "   'rain': 0.3,\n",
       "   'uvi': 6.94},\n",
       "  {'dt': 1652871600,\n",
       "   'sunrise': 1652846730,\n",
       "   'sunset': 1652902142,\n",
       "   'moonrise': 0,\n",
       "   'moonset': 1652851800,\n",
       "   'moon_phase': 0.59,\n",
       "   'temp': {'day': 25,\n",
       "    'min': 16.63,\n",
       "    'max': 26.73,\n",
       "    'night': 20.7,\n",
       "    'eve': 26.19,\n",
       "    'morn': 16.66},\n",
       "   'feels_like': {'day': 24.86, 'night': 21.1, 'eve': 26.19, 'morn': 16.81},\n",
       "   'pressure': 1021,\n",
       "   'humidity': 50,\n",
       "   'dew_point': 13.66,\n",
       "   'wind_speed': 3.56,\n",
       "   'wind_deg': 105,\n",
       "   'wind_gust': 6.61,\n",
       "   'weather': [{'id': 500,\n",
       "     'main': 'Rain',\n",
       "     'description': 'light rain',\n",
       "     'icon': '10d'}],\n",
       "   'clouds': 45,\n",
       "   'pop': 0.8,\n",
       "   'rain': 1.79,\n",
       "   'uvi': 6.74},\n",
       "  {'dt': 1652958000,\n",
       "   'sunrise': 1652933058,\n",
       "   'sunset': 1652988620,\n",
       "   'moonrise': 1652914680,\n",
       "   'moonset': 1652941860,\n",
       "   'moon_phase': 0.63,\n",
       "   'temp': {'day': 23.73,\n",
       "    'min': 18,\n",
       "    'max': 25.76,\n",
       "    'night': 19.04,\n",
       "    'eve': 24.44,\n",
       "    'morn': 18.05},\n",
       "   'feels_like': {'day': 23.91, 'night': 19.04, 'eve': 24.38, 'morn': 18.39},\n",
       "   'pressure': 1020,\n",
       "   'humidity': 67,\n",
       "   'dew_point': 17.12,\n",
       "   'wind_speed': 4.21,\n",
       "   'wind_deg': 278,\n",
       "   'wind_gust': 9.84,\n",
       "   'weather': [{'id': 500,\n",
       "     'main': 'Rain',\n",
       "     'description': 'light rain',\n",
       "     'icon': '10d'}],\n",
       "   'clouds': 95,\n",
       "   'pop': 1,\n",
       "   'rain': 2.29,\n",
       "   'uvi': 5.89},\n",
       "  {'dt': 1653044400,\n",
       "   'sunrise': 1653019388,\n",
       "   'sunset': 1653075097,\n",
       "   'moonrise': 1653004620,\n",
       "   'moonset': 1653032760,\n",
       "   'moon_phase': 0.66,\n",
       "   'temp': {'day': 17.7,\n",
       "    'min': 15.83,\n",
       "    'max': 20.32,\n",
       "    'night': 16.39,\n",
       "    'eve': 19.88,\n",
       "    'morn': 16.88},\n",
       "   'feels_like': {'day': 17.98, 'night': 16.25, 'eve': 19.75, 'morn': 17.08},\n",
       "   'pressure': 1019,\n",
       "   'humidity': 94,\n",
       "   'dew_point': 16.48,\n",
       "   'wind_speed': 3.91,\n",
       "   'wind_deg': 302,\n",
       "   'wind_gust': 6.3,\n",
       "   'weather': [{'id': 501,\n",
       "     'main': 'Rain',\n",
       "     'description': 'moderate rain',\n",
       "     'icon': '10d'}],\n",
       "   'clouds': 100,\n",
       "   'pop': 1,\n",
       "   'rain': 9.52,\n",
       "   'uvi': 2.98},\n",
       "  {'dt': 1653130800,\n",
       "   'sunrise': 1653105720,\n",
       "   'sunset': 1653161573,\n",
       "   'moonrise': 1653093540,\n",
       "   'moonset': 1653124020,\n",
       "   'moon_phase': 0.7,\n",
       "   'temp': {'day': 23.72,\n",
       "    'min': 13.95,\n",
       "    'max': 24.73,\n",
       "    'night': 18.12,\n",
       "    'eve': 22.28,\n",
       "    'morn': 15.17},\n",
       "   'feels_like': {'day': 23.3, 'night': 17.84, 'eve': 21.97, 'morn': 14.62},\n",
       "   'pressure': 1020,\n",
       "   'humidity': 44,\n",
       "   'dew_point': 10.49,\n",
       "   'wind_speed': 2.24,\n",
       "   'wind_deg': 44,\n",
       "   'wind_gust': 5.61,\n",
       "   'weather': [{'id': 804,\n",
       "     'main': 'Clouds',\n",
       "     'description': 'overcast clouds',\n",
       "     'icon': '04d'}],\n",
       "   'clouds': 86,\n",
       "   'pop': 0,\n",
       "   'uvi': 7.13},\n",
       "  {'dt': 1653217200,\n",
       "   'sunrise': 1653192055,\n",
       "   'sunset': 1653248048,\n",
       "   'moonrise': 1653181860,\n",
       "   'moonset': 1653215340,\n",
       "   'moon_phase': 0.75,\n",
       "   'temp': {'day': 24.51,\n",
       "    'min': 14.68,\n",
       "    'max': 26.07,\n",
       "    'night': 19.82,\n",
       "    'eve': 23.72,\n",
       "    'morn': 16.18},\n",
       "   'feels_like': {'day': 24.24, 'night': 19.84, 'eve': 23.69, 'morn': 15.81},\n",
       "   'pressure': 1013,\n",
       "   'humidity': 47,\n",
       "   'dew_point': 12.43,\n",
       "   'wind_speed': 4,\n",
       "   'wind_deg': 129,\n",
       "   'wind_gust': 6.69,\n",
       "   'weather': [{'id': 804,\n",
       "     'main': 'Clouds',\n",
       "     'description': 'overcast clouds',\n",
       "     'icon': '04d'}],\n",
       "   'clouds': 98,\n",
       "   'pop': 0,\n",
       "   'uvi': 8},\n",
       "  {'dt': 1653303600,\n",
       "   'sunrise': 1653278391,\n",
       "   'sunset': 1653334522,\n",
       "   'moonrise': 1653269640,\n",
       "   'moonset': 1653306480,\n",
       "   'moon_phase': 0.77,\n",
       "   'temp': {'day': 24.69,\n",
       "    'min': 16.89,\n",
       "    'max': 24.69,\n",
       "    'night': 17.45,\n",
       "    'eve': 21.26,\n",
       "    'morn': 16.89},\n",
       "   'feels_like': {'day': 24.91, 'night': 17.55, 'eve': 21.69, 'morn': 17.06},\n",
       "   'pressure': 1006,\n",
       "   'humidity': 65,\n",
       "   'dew_point': 17.44,\n",
       "   'wind_speed': 4.33,\n",
       "   'wind_deg': 250,\n",
       "   'wind_gust': 8.25,\n",
       "   'weather': [{'id': 500,\n",
       "     'main': 'Rain',\n",
       "     'description': 'light rain',\n",
       "     'icon': '10d'}],\n",
       "   'clouds': 100,\n",
       "   'pop': 1,\n",
       "   'rain': 6.43,\n",
       "   'uvi': 8},\n",
       "  {'dt': 1653390000,\n",
       "   'sunrise': 1653364730,\n",
       "   'sunset': 1653420995,\n",
       "   'moonrise': 1653357180,\n",
       "   'moonset': 1653397440,\n",
       "   'moon_phase': 0.81,\n",
       "   'temp': {'day': 21.82,\n",
       "    'min': 14.28,\n",
       "    'max': 22.21,\n",
       "    'night': 17.8,\n",
       "    'eve': 20.51,\n",
       "    'morn': 14.54},\n",
       "   'feels_like': {'day': 21.36, 'night': 17.41, 'eve': 20.1, 'morn': 13.93},\n",
       "   'pressure': 1011,\n",
       "   'humidity': 50,\n",
       "   'dew_point': 10.7,\n",
       "   'wind_speed': 3.39,\n",
       "   'wind_deg': 242,\n",
       "   'wind_gust': 7.17,\n",
       "   'weather': [{'id': 804,\n",
       "     'main': 'Clouds',\n",
       "     'description': 'overcast clouds',\n",
       "     'icon': '04d'}],\n",
       "   'clouds': 97,\n",
       "   'pop': 0.4,\n",
       "   'uvi': 8}]}"
      ]
     },
     "metadata": {},
     "output_type": "display_data"
    }
   ],
   "source": [
    "display(r)"
   ]
  },
  {
   "cell_type": "code",
   "execution_count": 7,
   "metadata": {},
   "outputs": [
    {
     "data": {
      "text/plain": [
       "{'latitude': 48.636,\n",
       " 'longitude': -1.5115,\n",
       " 'avg day temp': 20.24,\n",
       " 'avg humidity': 63.12,\n",
       " 'avg sunlight in hours': 15.46}"
      ]
     },
     "execution_count": 7,
     "metadata": {},
     "output_type": "execute_result"
    }
   ],
   "source": [
    "#these are the parmaters chosen to calculate average forcasted weather for each city over the next 7 days\n",
    "weather_params = ['sunrise','sunset','temp','humidity']\n",
    "\n",
    "#create a function that request from openweathermap weather forecast data for each city in France given its gps position\n",
    "def weather_forecast(city):\n",
    "    key = \"274c0a55230e8d4d1cb650d6dfd9b351\"\n",
    "    city_gps = requests.get(\"https://nominatim.openstreetmap.org/search?q={}+France&format=geojson\".format(city)).json()['features'][0]['geometry']['coordinates']\n",
    "    df = pd.DataFrame(columns = ['temp','humidity'])\n",
    "    r = requests.get(\"https://api.openweathermap.org/data/2.5/onecall?lat={}&lon={}&exclude=current,minutely,hourly,alerts&units=metric&appid={}\".format(city_gps[1],city_gps[0], key)).json()\n",
    "    for i in range(8):\n",
    "        r['daily'][i] # get forcast weather of day i\n",
    "        newDict = {key: value for (key, value) in r['daily'][i].items() if key in weather_params} #keeping only weather parameters needed\n",
    "        #creating a new weather forcast variable = duration of sunlight in the day as number of hours\n",
    "        newDict['sunlight duration']=round((newDict['sunset']-newDict['sunrise'])/3600,2)\n",
    "        newDict['temp'] = newDict['temp']['day'] #we choose to keep the avg temperature among all the temperature data scraped\n",
    "        del newDict['sunrise']\n",
    "        del newDict['sunset']\n",
    "        df.loc[i,'temp'] = newDict['temp']\n",
    "        df.loc[i,'humidity'] = newDict['humidity']\n",
    "        df.loc[i,'sunlight duration'] = newDict['sunlight duration']\n",
    "    #print(\"weather forecast in : {}\".format(city))\n",
    "    return {'latitude' : r['lat'], \\\n",
    "            'longitude' : r['lon'], \\\n",
    "            'avg day temp' :round(df['temp'].mean(),2), \\\n",
    "            'avg humidity' : round(df['humidity'].mean(),2), \\\n",
    "            'avg sunlight in hours' : round(df['sunlight duration'].mean(),2)}\n",
    "#checking results for a city\n",
    "weather_forecast('Mont Saint Michel')"
   ]
  },
  {
   "cell_type": "code",
   "execution_count": 8,
   "metadata": {},
   "outputs": [],
   "source": [
    "#getting the data for all french cities with a loop and putting it into a dataframe that will be saved "
   ]
  },
  {
   "cell_type": "code",
   "execution_count": 9,
   "metadata": {},
   "outputs": [],
   "source": [
    "cities_weather = pd.DataFrame(columns = ['city name', 'latitude', 'longitude', 'avg day temp','avg humidity', 'avg sunlight in hours'])\n",
    "for i in range(len(cities)):\n",
    "    cities_weather.loc[i,'city name'] = cities[i]\n",
    "    cities_weather.loc[i,'latitude'] = weather_forecast(cities[i])['latitude']\n",
    "    cities_weather.loc[i,'longitude'] = weather_forecast(cities[i])['longitude']\n",
    "    cities_weather.loc[i,'avg day temp'] = weather_forecast(cities[i])['avg day temp']\n",
    "    cities_weather.loc[i,'avg humidity'] = weather_forecast(cities[i])['avg humidity']\n",
    "    cities_weather.loc[i,'avg sunlight in hours'] = weather_forecast(cities[i])['avg sunlight in hours']"
   ]
  },
  {
   "cell_type": "code",
   "execution_count": 12,
   "metadata": {},
   "outputs": [],
   "source": [
    "#saving data into csv file\n",
    "cities_weather.to_csv('cities_weather.csv')"
   ]
  },
  {
   "cell_type": "markdown",
   "metadata": {
    "tags": []
   },
   "source": [
    "## II- Ranking the 5 best destinations"
   ]
  },
  {
   "cell_type": "code",
   "execution_count": 10,
   "metadata": {
    "tags": []
   },
   "outputs": [
    {
     "data": {
      "text/html": [
       "<iframe\n",
       "    scrolling=\"no\"\n",
       "    width=\"100%\"\n",
       "    height=\"720\"\n",
       "    src=\"iframe_figures/figure_10.html\"\n",
       "    frameborder=\"0\"\n",
       "    allowfullscreen\n",
       "></iframe>\n"
      ]
     },
     "metadata": {},
     "output_type": "display_data"
    }
   ],
   "source": [
    "#Use plotly to display the temperature map \n",
    "fig = px.scatter_mapbox(cities_weather, lat=\"latitude\", lon=\"longitude\",\n",
    "                        size=cities_weather[\"avg day temp\"].to_list(), \n",
    "                        hover_name = \"city name\", mapbox_style=\"carto-positron\",\n",
    "                        height=700, zoom=4.7, color_continuous_scale=\"avg day temp\")\n",
    "fig.show()"
   ]
  },
  {
   "cell_type": "code",
   "execution_count": 11,
   "metadata": {},
   "outputs": [
    {
     "data": {
      "text/html": [
       "<iframe\n",
       "    scrolling=\"no\"\n",
       "    width=\"100%\"\n",
       "    height=\"545px\"\n",
       "    src=\"iframe_figures/figure_11.html\"\n",
       "    frameborder=\"0\"\n",
       "    allowfullscreen\n",
       "></iframe>\n"
      ]
     },
     "metadata": {},
     "output_type": "display_data"
    }
   ],
   "source": [
    "#Using plotly to display the sunlight duration map ordered by day temperature fo each city\n",
    "fig = px.scatter_mapbox(cities_weather, lat=\"latitude\", lon=\"longitude\",\n",
    "                        size=cities_weather[\"avg day temp\"].to_list(), \n",
    "                        hover_name = \"city name\", mapbox_style=\"carto-positron\", color=\"avg sunlight in hours\",\n",
    "                        size_max=15, zoom=4, color_continuous_scale=px.colors.cyclical.IceFire)\n",
    "fig.show()"
   ]
  },
  {
   "cell_type": "code",
   "execution_count": 12,
   "metadata": {},
   "outputs": [
    {
     "data": {
      "text/html": [
       "<div>\n",
       "<style scoped>\n",
       "    .dataframe tbody tr th:only-of-type {\n",
       "        vertical-align: middle;\n",
       "    }\n",
       "\n",
       "    .dataframe tbody tr th {\n",
       "        vertical-align: top;\n",
       "    }\n",
       "\n",
       "    .dataframe thead th {\n",
       "        text-align: right;\n",
       "    }\n",
       "</style>\n",
       "<table border=\"1\" class=\"dataframe\">\n",
       "  <thead>\n",
       "    <tr style=\"text-align: right;\">\n",
       "      <th></th>\n",
       "      <th>city name</th>\n",
       "      <th>latitude</th>\n",
       "      <th>longitude</th>\n",
       "      <th>avg day temp</th>\n",
       "      <th>avg humidity</th>\n",
       "      <th>avg sunlight in hours</th>\n",
       "    </tr>\n",
       "  </thead>\n",
       "  <tbody>\n",
       "    <tr>\n",
       "      <th>22</th>\n",
       "      <td>Avignon</td>\n",
       "      <td>43.9492</td>\n",
       "      <td>4.8059</td>\n",
       "      <td>30.65</td>\n",
       "      <td>33.88</td>\n",
       "      <td>14.92</td>\n",
       "    </tr>\n",
       "    <tr>\n",
       "      <th>15</th>\n",
       "      <td>Grenoble</td>\n",
       "      <td>45.1876</td>\n",
       "      <td>5.7358</td>\n",
       "      <td>30.6</td>\n",
       "      <td>37.25</td>\n",
       "      <td>15.05</td>\n",
       "    </tr>\n",
       "    <tr>\n",
       "      <th>23</th>\n",
       "      <td>Uzes</td>\n",
       "      <td>44.0121</td>\n",
       "      <td>4.4197</td>\n",
       "      <td>30.17</td>\n",
       "      <td>32.88</td>\n",
       "      <td>14.93</td>\n",
       "    </tr>\n",
       "    <tr>\n",
       "      <th>24</th>\n",
       "      <td>Nimes</td>\n",
       "      <td>43.8374</td>\n",
       "      <td>4.3601</td>\n",
       "      <td>29.58</td>\n",
       "      <td>38.25</td>\n",
       "      <td>14.91</td>\n",
       "    </tr>\n",
       "    <tr>\n",
       "      <th>21</th>\n",
       "      <td>Aix en Provence</td>\n",
       "      <td>43.5298</td>\n",
       "      <td>5.4475</td>\n",
       "      <td>29.06</td>\n",
       "      <td>32.88</td>\n",
       "      <td>14.88</td>\n",
       "    </tr>\n",
       "  </tbody>\n",
       "</table>\n",
       "</div>"
      ],
      "text/plain": [
       "          city name latitude longitude avg day temp avg humidity  \\\n",
       "22          Avignon  43.9492    4.8059        30.65        33.88   \n",
       "15         Grenoble  45.1876    5.7358         30.6        37.25   \n",
       "23             Uzes  44.0121    4.4197        30.17        32.88   \n",
       "24            Nimes  43.8374    4.3601        29.58        38.25   \n",
       "21  Aix en Provence  43.5298    5.4475        29.06        32.88   \n",
       "\n",
       "   avg sunlight in hours  \n",
       "22                 14.92  \n",
       "15                 15.05  \n",
       "23                 14.93  \n",
       "24                 14.91  \n",
       "21                 14.88  "
      ]
     },
     "execution_count": 12,
     "metadata": {},
     "output_type": "execute_result"
    }
   ],
   "source": [
    "#ranking the 5 best cities (warmest weather)\n",
    "cities_weather.sort_values(\"avg day temp\", ascending=False).head(5)"
   ]
  },
  {
   "cell_type": "code",
   "execution_count": 13,
   "metadata": {},
   "outputs": [
    {
     "name": "stdout",
     "output_type": "stream",
     "text": [
      "['Avignon', 'Grenoble', 'Uzes', 'Nimes', 'Aix en Provence']\n"
     ]
    }
   ],
   "source": [
    "#best 5 cities to keep in term of weather \n",
    "index_city = list(cities_weather[\"avg day temp\"].sort_values(ascending=False)[:5].index)\n",
    "warmest_cities = [cities_weather[\"city name\"][i] for i in index_city]\n",
    "print(warmest_cities)"
   ]
  },
  {
   "cell_type": "markdown",
   "metadata": {
    "tags": []
   },
   "source": [
    "## III- Getting hotels info by scarping booking website"
   ]
  },
  {
   "cell_type": "code",
   "execution_count": 14,
   "metadata": {},
   "outputs": [],
   "source": [
    "cities_to_keep = warmest_cities"
   ]
  },
  {
   "cell_type": "code",
   "execution_count": 15,
   "metadata": {},
   "outputs": [],
   "source": [
    "#define url by city where to scrap hotels data\n",
    "url_list = [f'https://www.booking.com/city/fr/{cities_to_keep[i].replace(\" \", \"-\").lower()}.fr.html' for i in range(len(cities_to_keep))]"
   ]
  },
  {
   "cell_type": "code",
   "execution_count": 16,
   "metadata": {},
   "outputs": [
    {
     "name": "stdout",
     "output_type": "stream",
     "text": [
      "['https://www.booking.com/city/fr/avignon.fr.html', 'https://www.booking.com/city/fr/grenoble.fr.html', 'https://www.booking.com/city/fr/uzes.fr.html', 'https://www.booking.com/city/fr/nimes.fr.html', 'https://www.booking.com/city/fr/aix-en-provence.fr.html']\n"
     ]
    }
   ],
   "source": [
    "print(url_list)"
   ]
  },
  {
   "cell_type": "code",
   "execution_count": 17,
   "metadata": {},
   "outputs": [],
   "source": [
    "#defining a scrapping class with scrapy.spider \n",
    "class BookingSpider(scrapy.Spider):\n",
    "    # Name of spider\n",
    "    name = \"BookingSpider\"\n",
    "    RESULTS_PER_PAGE = 20 #20 results per page  \n",
    "    \n",
    "    def start_requests(self):\n",
    "        urls = url_list #defined when calling crawl\n",
    "        for index, url in enumerate(urls):\n",
    "            yield scrapy.Request(url, meta={'index':index}) #to keep in memory the city index we are scrapping data for\n",
    "    \n",
    "    # Callback function that will be called when starting the spider\n",
    "    def parse(self, response):\n",
    "        for link in response.css('header.bui-spacer--medium a::attr(href)'):\n",
    "            hotel_link = 'https://www.booking.com' + link.get()\n",
    "            yield response.follow(hotel_link, callback=self.hotel_infos, meta={'index': response.meta['index']})\n",
    "        \n",
    "    def hotel_infos(self, response):\n",
    "        yield {\n",
    "        \n",
    "        'Hotel_name': response.css('h2.hp__hotel-name::text').getall()[1].strip(),\n",
    "        'Rating': response.css('div.b5cd09854e.d10a6220b4::text').get(1),\n",
    "        'Coordinates':response.css('a.jq_tooltip.loc_block_link_underline_fix.bui-link.show_on_map_hp_link::attr(data-atlas-latlng)').get(),\n",
    "        'Description':response.css('div.hp_desc_main_content p::text').getall(),\n",
    "        'Link': str(response),\n",
    "        'City':response.meta['index']\n",
    "        \n",
    "        }  "
   ]
  },
  {
   "cell_type": "code",
   "execution_count": 18,
   "metadata": {
    "tags": []
   },
   "outputs": [
    {
     "name": "stderr",
     "output_type": "stream",
     "text": [
      "2022-05-17 07:48:39 [scrapy.utils.log] INFO: Scrapy 2.6.1 started (bot: scrapybot)\n",
      "2022-05-17 07:48:39 [scrapy.utils.log] INFO: Versions: lxml 4.8.0.0, libxml2 2.9.12, cssselect 1.1.0, parsel 1.6.0, w3lib 1.22.0, Twisted 22.4.0, Python 3.9.7 | packaged by conda-forge | (default, Sep 29 2021, 19:20:46) - [GCC 9.4.0], pyOpenSSL 22.0.0 (OpenSSL 1.1.1l  24 Aug 2021), cryptography 36.0.1, Platform Linux-5.4.170+-x86_64-with-glibc2.31\n",
      "2022-05-17 07:48:39 [scrapy.crawler] INFO: Overridden settings:\n",
      "{'AUTOTHROTTLE_ENABLED': True,\n",
      " 'LOG_LEVEL': 20,\n",
      " 'USER_AGENT': 'Mozilla/5.0 (Windows NT 10.0; Win64; x64) AppleWebKit/537.36 '\n",
      "               '(KHTML, like Gecko) Chrome/98.0.4758.102 Safari/537.36'}\n",
      "2022-05-17 07:48:39 [scrapy.extensions.telnet] INFO: Telnet Password: 5ebab5bec6e6d65f\n",
      "2022-05-17 07:48:39 [scrapy.middleware] INFO: Enabled extensions:\n",
      "['scrapy.extensions.corestats.CoreStats',\n",
      " 'scrapy.extensions.telnet.TelnetConsole',\n",
      " 'scrapy.extensions.memusage.MemoryUsage',\n",
      " 'scrapy.extensions.feedexport.FeedExporter',\n",
      " 'scrapy.extensions.logstats.LogStats',\n",
      " 'scrapy.extensions.throttle.AutoThrottle']\n",
      "2022-05-17 07:48:39 [scrapy.middleware] INFO: Enabled downloader middlewares:\n",
      "['scrapy.downloadermiddlewares.httpauth.HttpAuthMiddleware',\n",
      " 'scrapy.downloadermiddlewares.downloadtimeout.DownloadTimeoutMiddleware',\n",
      " 'scrapy.downloadermiddlewares.defaultheaders.DefaultHeadersMiddleware',\n",
      " 'scrapy.downloadermiddlewares.useragent.UserAgentMiddleware',\n",
      " 'scrapy.downloadermiddlewares.retry.RetryMiddleware',\n",
      " 'scrapy.downloadermiddlewares.redirect.MetaRefreshMiddleware',\n",
      " 'scrapy.downloadermiddlewares.httpcompression.HttpCompressionMiddleware',\n",
      " 'scrapy.downloadermiddlewares.redirect.RedirectMiddleware',\n",
      " 'scrapy.downloadermiddlewares.cookies.CookiesMiddleware',\n",
      " 'scrapy.downloadermiddlewares.httpproxy.HttpProxyMiddleware',\n",
      " 'scrapy.downloadermiddlewares.stats.DownloaderStats']\n",
      "2022-05-17 07:48:39 [scrapy.middleware] INFO: Enabled spider middlewares:\n",
      "['scrapy.spidermiddlewares.httperror.HttpErrorMiddleware',\n",
      " 'scrapy.spidermiddlewares.offsite.OffsiteMiddleware',\n",
      " 'scrapy.spidermiddlewares.referer.RefererMiddleware',\n",
      " 'scrapy.spidermiddlewares.urllength.UrlLengthMiddleware',\n",
      " 'scrapy.spidermiddlewares.depth.DepthMiddleware']\n",
      "2022-05-17 07:48:39 [scrapy.middleware] INFO: Enabled item pipelines:\n",
      "[]\n",
      "2022-05-17 07:48:39 [scrapy.core.engine] INFO: Spider opened\n",
      "2022-05-17 07:48:39 [scrapy.extensions.logstats] INFO: Crawled 0 pages (at 0 pages/min), scraped 0 items (at 0 items/min)\n",
      "2022-05-17 07:48:39 [scrapy.extensions.telnet] INFO: Telnet console listening on 127.0.0.1:6023\n",
      "2022-05-17 07:49:39 [scrapy.extensions.logstats] INFO: Crawled 45 pages (at 45 pages/min), scraped 40 items (at 40 items/min)\n",
      "2022-05-17 07:50:39 [scrapy.extensions.logstats] INFO: Crawled 96 pages (at 51 pages/min), scraped 91 items (at 51 items/min)\n",
      "2022-05-17 07:51:00 [scrapy.core.engine] INFO: Closing spider (finished)\n",
      "2022-05-17 07:51:00 [scrapy.extensions.feedexport] INFO: Stored json feed (111 items) in: src/booking_data.json\n",
      "2022-05-17 07:51:00 [scrapy.statscollectors] INFO: Dumping Scrapy stats:\n",
      "{'downloader/request_bytes': 119328,\n",
      " 'downloader/request_count': 116,\n",
      " 'downloader/request_method_count/GET': 116,\n",
      " 'downloader/response_bytes': 24127392,\n",
      " 'downloader/response_count': 116,\n",
      " 'downloader/response_status_count/200': 116,\n",
      " 'dupefilter/filtered': 22,\n",
      " 'elapsed_time_seconds': 141.213597,\n",
      " 'feedexport/success_count/FileFeedStorage': 1,\n",
      " 'finish_reason': 'finished',\n",
      " 'finish_time': datetime.datetime(2022, 5, 17, 7, 51, 0, 833052),\n",
      " 'httpcompression/response_bytes': 144978482,\n",
      " 'httpcompression/response_count': 116,\n",
      " 'item_scraped_count': 111,\n",
      " 'log_count/INFO': 13,\n",
      " 'memusage/max': 416497664,\n",
      " 'memusage/startup': 161558528,\n",
      " 'request_depth_max': 1,\n",
      " 'response_received_count': 116,\n",
      " 'scheduler/dequeued': 116,\n",
      " 'scheduler/dequeued/memory': 116,\n",
      " 'scheduler/enqueued': 116,\n",
      " 'scheduler/enqueued/memory': 116,\n",
      " 'start_time': datetime.datetime(2022, 5, 17, 7, 48, 39, 619455)}\n",
      "2022-05-17 07:51:00 [scrapy.core.engine] INFO: Spider closed (finished)\n"
     ]
    }
   ],
   "source": [
    "# Name of the file where the results will be saved\n",
    "filename = \"booking_data.json\"\n",
    "\n",
    "# If file already exists, delete it before crawling \n",
    "if filename in os.listdir('./src/'):\n",
    "        os.remove('./src/' + filename)\n",
    "\n",
    "# Declare a new CrawlerProcess with some settings\n",
    "process = CrawlerProcess(settings = {\n",
    "    'USER_AGENT': 'Mozilla/5.0 (Windows NT 10.0; Win64; x64) AppleWebKit/537.36 (KHTML, like Gecko) Chrome/98.0.4758.102 Safari/537.36', #changer user \n",
    "    'LOG_LEVEL': logging.INFO,\n",
    "    \"FEEDS\": {\n",
    "        'src/' + filename : {\"format\": \"json\"},\n",
    "    },\n",
    "    \"AUTOTHROTTLE_ENABLED\": True  # AutoThrottle Here!\n",
    "})\n",
    "\n",
    "# Start the crawling using the spider defined above\n",
    "process.crawl(BookingSpider, start_urls=url_list)\n",
    "process.start()\n"
   ]
  },
  {
   "cell_type": "code",
   "execution_count": 48,
   "metadata": {},
   "outputs": [
    {
     "data": {
      "text/html": [
       "<div>\n",
       "<style scoped>\n",
       "    .dataframe tbody tr th:only-of-type {\n",
       "        vertical-align: middle;\n",
       "    }\n",
       "\n",
       "    .dataframe tbody tr th {\n",
       "        vertical-align: top;\n",
       "    }\n",
       "\n",
       "    .dataframe thead th {\n",
       "        text-align: right;\n",
       "    }\n",
       "</style>\n",
       "<table border=\"1\" class=\"dataframe\">\n",
       "  <thead>\n",
       "    <tr style=\"text-align: right;\">\n",
       "      <th></th>\n",
       "      <th>Hotel_name</th>\n",
       "      <th>Rating</th>\n",
       "      <th>Coordinates</th>\n",
       "      <th>Description</th>\n",
       "      <th>Link</th>\n",
       "      <th>City</th>\n",
       "    </tr>\n",
       "  </thead>\n",
       "  <tbody>\n",
       "    <tr>\n",
       "      <th>0</th>\n",
       "      <td>Best Western Hôtel Le Paradou Avignon Sud.</td>\n",
       "      <td>7,9</td>\n",
       "      <td>43.90489250,4.89553034</td>\n",
       "      <td>[Situé dans un parc à Avignon Sud-Montfavet, l...</td>\n",
       "      <td>&lt;200 https://www.booking.com/hotel/fr/paradoua...</td>\n",
       "      <td>0</td>\n",
       "    </tr>\n",
       "    <tr>\n",
       "      <th>1</th>\n",
       "      <td>Hotel Restaurant la Ferme</td>\n",
       "      <td>8,5</td>\n",
       "      <td>43.97548368,4.82743710</td>\n",
       "      <td>[Vous pouvez bénéficier d'une réduction Genius...</td>\n",
       "      <td>&lt;200 https://www.booking.com/hotel/fr/logis-de...</td>\n",
       "      <td>0</td>\n",
       "    </tr>\n",
       "    <tr>\n",
       "      <th>2</th>\n",
       "      <td>Hotel Boquier</td>\n",
       "      <td>8,6</td>\n",
       "      <td>43.94469660,4.80499312</td>\n",
       "      <td>[Vous pouvez bénéficier d'une réduction Genius...</td>\n",
       "      <td>&lt;200 https://www.booking.com/hotel/fr/boquier....</td>\n",
       "      <td>0</td>\n",
       "    </tr>\n",
       "    <tr>\n",
       "      <th>3</th>\n",
       "      <td>Garlande Hôtel Avignon Centre</td>\n",
       "      <td>8,9</td>\n",
       "      <td>43.94761833,4.80680354</td>\n",
       "      <td>[Vous pouvez bénéficier d'une réduction Genius...</td>\n",
       "      <td>&lt;200 https://www.booking.com/hotel/fr/de-garla...</td>\n",
       "      <td>0</td>\n",
       "    </tr>\n",
       "    <tr>\n",
       "      <th>4</th>\n",
       "      <td>La Mirande</td>\n",
       "      <td>8,9</td>\n",
       "      <td>43.95007660,4.80770677</td>\n",
       "      <td>[Vous pouvez bénéficier d'une réduction Genius...</td>\n",
       "      <td>&lt;200 https://www.booking.com/hotel/fr/la-miran...</td>\n",
       "      <td>0</td>\n",
       "    </tr>\n",
       "  </tbody>\n",
       "</table>\n",
       "</div>"
      ],
      "text/plain": [
       "                                   Hotel_name Rating             Coordinates  \\\n",
       "0  Best Western Hôtel Le Paradou Avignon Sud.    7,9  43.90489250,4.89553034   \n",
       "1                   Hotel Restaurant la Ferme    8,5  43.97548368,4.82743710   \n",
       "2                               Hotel Boquier    8,6  43.94469660,4.80499312   \n",
       "3               Garlande Hôtel Avignon Centre    8,9  43.94761833,4.80680354   \n",
       "4                                  La Mirande    8,9  43.95007660,4.80770677   \n",
       "\n",
       "                                         Description  \\\n",
       "0  [Situé dans un parc à Avignon Sud-Montfavet, l...   \n",
       "1  [Vous pouvez bénéficier d'une réduction Genius...   \n",
       "2  [Vous pouvez bénéficier d'une réduction Genius...   \n",
       "3  [Vous pouvez bénéficier d'une réduction Genius...   \n",
       "4  [Vous pouvez bénéficier d'une réduction Genius...   \n",
       "\n",
       "                                                Link  City  \n",
       "0  <200 https://www.booking.com/hotel/fr/paradoua...     0  \n",
       "1  <200 https://www.booking.com/hotel/fr/logis-de...     0  \n",
       "2  <200 https://www.booking.com/hotel/fr/boquier....     0  \n",
       "3  <200 https://www.booking.com/hotel/fr/de-garla...     0  \n",
       "4  <200 https://www.booking.com/hotel/fr/la-miran...     0  "
      ]
     },
     "execution_count": 48,
     "metadata": {},
     "output_type": "execute_result"
    }
   ],
   "source": [
    "#chechking scraped data\n",
    "df = pd.read_json(\"./src/booking_data.json\")\n",
    "df.head()"
   ]
  },
  {
   "cell_type": "code",
   "execution_count": 49,
   "metadata": {},
   "outputs": [
    {
     "data": {
      "text/plain": [
       "(111, 6)"
      ]
     },
     "execution_count": 49,
     "metadata": {},
     "output_type": "execute_result"
    }
   ],
   "source": [
    "df.shape"
   ]
  },
  {
   "cell_type": "code",
   "execution_count": 50,
   "metadata": {},
   "outputs": [
    {
     "data": {
      "text/plain": [
       "Hotel_name     object\n",
       "Rating         object\n",
       "Coordinates    object\n",
       "Description    object\n",
       "Link           object\n",
       "City            int64\n",
       "dtype: object"
      ]
     },
     "execution_count": 50,
     "metadata": {},
     "output_type": "execute_result"
    }
   ],
   "source": [
    "df.dtypes"
   ]
  },
  {
   "cell_type": "code",
   "execution_count": 51,
   "metadata": {},
   "outputs": [],
   "source": [
    "# Saving data into csv file\n",
    "df.to_csv('booking_data.csv')"
   ]
  },
  {
   "cell_type": "code",
   "execution_count": 52,
   "metadata": {},
   "outputs": [],
   "source": [
    "#cleaning and processing data\n",
    "\n",
    "#replacing city index with city name\n",
    "def func(index):\n",
    "    for i in range(len(cities_to_keep)):\n",
    "        if index == i:\n",
    "            return cities_to_keep[i]\n",
    "df['City_name'] = df['City'].apply(func)"
   ]
  },
  {
   "cell_type": "code",
   "execution_count": 53,
   "metadata": {},
   "outputs": [
    {
     "data": {
      "text/html": [
       "<div>\n",
       "<style scoped>\n",
       "    .dataframe tbody tr th:only-of-type {\n",
       "        vertical-align: middle;\n",
       "    }\n",
       "\n",
       "    .dataframe tbody tr th {\n",
       "        vertical-align: top;\n",
       "    }\n",
       "\n",
       "    .dataframe thead th {\n",
       "        text-align: right;\n",
       "    }\n",
       "</style>\n",
       "<table border=\"1\" class=\"dataframe\">\n",
       "  <thead>\n",
       "    <tr style=\"text-align: right;\">\n",
       "      <th></th>\n",
       "      <th>Hotel_name</th>\n",
       "      <th>Rating</th>\n",
       "      <th>Coordinates</th>\n",
       "      <th>Description</th>\n",
       "      <th>Link</th>\n",
       "      <th>City_name</th>\n",
       "    </tr>\n",
       "  </thead>\n",
       "  <tbody>\n",
       "    <tr>\n",
       "      <th>0</th>\n",
       "      <td>Best Western Hôtel Le Paradou Avignon Sud.</td>\n",
       "      <td>7,9</td>\n",
       "      <td>43.90489250,4.89553034</td>\n",
       "      <td>[Situé dans un parc à Avignon Sud-Montfavet, l...</td>\n",
       "      <td>&lt;200 https://www.booking.com/hotel/fr/paradoua...</td>\n",
       "      <td>Avignon</td>\n",
       "    </tr>\n",
       "    <tr>\n",
       "      <th>1</th>\n",
       "      <td>Hotel Restaurant la Ferme</td>\n",
       "      <td>8,5</td>\n",
       "      <td>43.97548368,4.82743710</td>\n",
       "      <td>[Vous pouvez bénéficier d'une réduction Genius...</td>\n",
       "      <td>&lt;200 https://www.booking.com/hotel/fr/logis-de...</td>\n",
       "      <td>Avignon</td>\n",
       "    </tr>\n",
       "    <tr>\n",
       "      <th>2</th>\n",
       "      <td>Hotel Boquier</td>\n",
       "      <td>8,6</td>\n",
       "      <td>43.94469660,4.80499312</td>\n",
       "      <td>[Vous pouvez bénéficier d'une réduction Genius...</td>\n",
       "      <td>&lt;200 https://www.booking.com/hotel/fr/boquier....</td>\n",
       "      <td>Avignon</td>\n",
       "    </tr>\n",
       "    <tr>\n",
       "      <th>3</th>\n",
       "      <td>Garlande Hôtel Avignon Centre</td>\n",
       "      <td>8,9</td>\n",
       "      <td>43.94761833,4.80680354</td>\n",
       "      <td>[Vous pouvez bénéficier d'une réduction Genius...</td>\n",
       "      <td>&lt;200 https://www.booking.com/hotel/fr/de-garla...</td>\n",
       "      <td>Avignon</td>\n",
       "    </tr>\n",
       "    <tr>\n",
       "      <th>4</th>\n",
       "      <td>La Mirande</td>\n",
       "      <td>8,9</td>\n",
       "      <td>43.95007660,4.80770677</td>\n",
       "      <td>[Vous pouvez bénéficier d'une réduction Genius...</td>\n",
       "      <td>&lt;200 https://www.booking.com/hotel/fr/la-miran...</td>\n",
       "      <td>Avignon</td>\n",
       "    </tr>\n",
       "    <tr>\n",
       "      <th>5</th>\n",
       "      <td>Campanile Avignon Sud - Montfavet la Cristole</td>\n",
       "      <td>7,2</td>\n",
       "      <td>43.92592594,4.85080719</td>\n",
       "      <td>[Vous pouvez bénéficier d'une réduction Genius...</td>\n",
       "      <td>&lt;200 https://www.booking.com/hotel/fr/campanil...</td>\n",
       "      <td>Avignon</td>\n",
       "    </tr>\n",
       "    <tr>\n",
       "      <th>6</th>\n",
       "      <td>hotelF1 Avignon Centre Courtine gare TGV</td>\n",
       "      <td>6,6</td>\n",
       "      <td>43.92903200,4.78818900</td>\n",
       "      <td>[L'hotelF1 Avignon Centre Courtine gare TGV se...</td>\n",
       "      <td>&lt;200 https://www.booking.com/hotel/fr/hotelf1-...</td>\n",
       "      <td>Avignon</td>\n",
       "    </tr>\n",
       "    <tr>\n",
       "      <th>7</th>\n",
       "      <td>Au Saint Roch - Hôtel et Jardin</td>\n",
       "      <td>8,1</td>\n",
       "      <td>43.94290138,4.79804277</td>\n",
       "      <td>[Vous pouvez bénéficier d'une réduction Genius...</td>\n",
       "      <td>&lt;200 https://www.booking.com/hotel/fr/au-saint...</td>\n",
       "      <td>Avignon</td>\n",
       "    </tr>\n",
       "    <tr>\n",
       "      <th>8</th>\n",
       "      <td>Hôtel Le Colbert</td>\n",
       "      <td>8,8</td>\n",
       "      <td>43.94411137,4.80579557</td>\n",
       "      <td>[L'Hôtel Le Colbert est idéalement situé dans ...</td>\n",
       "      <td>&lt;200 https://www.booking.com/hotel/fr/le-colbe...</td>\n",
       "      <td>Avignon</td>\n",
       "    </tr>\n",
       "    <tr>\n",
       "      <th>9</th>\n",
       "      <td>Hôtel-Restaurant Kyriad Cap Sud</td>\n",
       "      <td>8,0</td>\n",
       "      <td>43.92744820,4.84788895</td>\n",
       "      <td>[Vous pouvez bénéficier d'une réduction Genius...</td>\n",
       "      <td>&lt;200 https://www.booking.com/hotel/fr/kyriad-a...</td>\n",
       "      <td>Avignon</td>\n",
       "    </tr>\n",
       "    <tr>\n",
       "      <th>10</th>\n",
       "      <td>Hotel de l'île</td>\n",
       "      <td>8,0</td>\n",
       "      <td>43.95694180,4.80294510</td>\n",
       "      <td>[Situé à Avignon, à moins de 2,8 km du palais ...</td>\n",
       "      <td>&lt;200 https://www.booking.com/hotel/fr/de-l-ile...</td>\n",
       "      <td>Avignon</td>\n",
       "    </tr>\n",
       "    <tr>\n",
       "      <th>11</th>\n",
       "      <td>ibis Avignon Sud</td>\n",
       "      <td>7,9</td>\n",
       "      <td>43.92607107,4.84903291</td>\n",
       "      <td>[L'hôtel ibis Avignon Sud bénéficie d'un empla...</td>\n",
       "      <td>&lt;200 https://www.booking.com/hotel/fr/ibis-avi...</td>\n",
       "      <td>Avignon</td>\n",
       "    </tr>\n",
       "    <tr>\n",
       "      <th>12</th>\n",
       "      <td>Mercure Avignon Centre Palais des Papes</td>\n",
       "      <td>7,8</td>\n",
       "      <td>43.94990136,4.80647698</td>\n",
       "      <td>[Proposant une connexion Wi-Fi gratuite ainsi ...</td>\n",
       "      <td>&lt;200 https://www.booking.com/hotel/fr/mercure-...</td>\n",
       "      <td>Avignon</td>\n",
       "    </tr>\n",
       "    <tr>\n",
       "      <th>13</th>\n",
       "      <td>Hôtel restaurant d'application Lesdiguieres - ...</td>\n",
       "      <td>8,6</td>\n",
       "      <td>45.16788300,5.71176000</td>\n",
       "      <td>[Doté d'un bar et d'une vue sur la montagne, l...</td>\n",
       "      <td>&lt;200 https://www.booking.com/hotel/fr/lesdigui...</td>\n",
       "      <td>Grenoble</td>\n",
       "    </tr>\n",
       "    <tr>\n",
       "      <th>14</th>\n",
       "      <td>Le trente trois</td>\n",
       "      <td>9,2</td>\n",
       "      <td>44.00964195,4.41788524</td>\n",
       "      <td>[Situé à Uzès, l'établissement Le trente trois...</td>\n",
       "      <td>&lt;200 https://www.booking.com/hotel/fr/le-trent...</td>\n",
       "      <td>Uzes</td>\n",
       "    </tr>\n",
       "    <tr>\n",
       "      <th>15</th>\n",
       "      <td>Empire Hôtel</td>\n",
       "      <td>6,5</td>\n",
       "      <td>43.84030089,4.36314873</td>\n",
       "      <td>[L'Empire Hôtel est situé au cœur de Nîmes, fa...</td>\n",
       "      <td>&lt;200 https://www.booking.com/hotel/fr/empire-n...</td>\n",
       "      <td>Nimes</td>\n",
       "    </tr>\n",
       "    <tr>\n",
       "      <th>16</th>\n",
       "      <td>Renaissance Aix-en-Provence Hotel</td>\n",
       "      <td>8,1</td>\n",
       "      <td>43.52624048,5.43820493</td>\n",
       "      <td>[Situé à moins de 10 minutes à pied du centre ...</td>\n",
       "      <td>&lt;200 https://www.booking.com/hotel/fr/renaissa...</td>\n",
       "      <td>Aix en Provence</td>\n",
       "    </tr>\n",
       "    <tr>\n",
       "      <th>17</th>\n",
       "      <td>Hôtel Rotonde</td>\n",
       "      <td>8,2</td>\n",
       "      <td>43.52391014,5.44249445</td>\n",
       "      <td>[Vous pouvez bénéficier d'une réduction Genius...</td>\n",
       "      <td>&lt;200 https://www.booking.com/hotel/fr/rotonde....</td>\n",
       "      <td>Aix en Provence</td>\n",
       "    </tr>\n",
       "    <tr>\n",
       "      <th>18</th>\n",
       "      <td>Hôtel des Augustins</td>\n",
       "      <td>8,2</td>\n",
       "      <td>43.52688664,5.44727147</td>\n",
       "      <td>[Vous pouvez bénéficier d'une réduction Genius...</td>\n",
       "      <td>&lt;200 https://www.booking.com/hotel/fr/les-augu...</td>\n",
       "      <td>Aix en Provence</td>\n",
       "    </tr>\n",
       "    <tr>\n",
       "      <th>19</th>\n",
       "      <td>TheCamp Hotel&amp;Lodges - Aix en Provence</td>\n",
       "      <td>8,4</td>\n",
       "      <td>43.49631600,5.34215200</td>\n",
       "      <td>[Vous pouvez bénéficier d'une réduction Genius...</td>\n",
       "      <td>&lt;200 https://www.booking.com/hotel/fr/thecamp-...</td>\n",
       "      <td>Aix en Provence</td>\n",
       "    </tr>\n",
       "  </tbody>\n",
       "</table>\n",
       "</div>"
      ],
      "text/plain": [
       "                                           Hotel_name Rating  \\\n",
       "0          Best Western Hôtel Le Paradou Avignon Sud.    7,9   \n",
       "1                           Hotel Restaurant la Ferme    8,5   \n",
       "2                                       Hotel Boquier    8,6   \n",
       "3                       Garlande Hôtel Avignon Centre    8,9   \n",
       "4                                          La Mirande    8,9   \n",
       "5       Campanile Avignon Sud - Montfavet la Cristole    7,2   \n",
       "6            hotelF1 Avignon Centre Courtine gare TGV    6,6   \n",
       "7                     Au Saint Roch - Hôtel et Jardin    8,1   \n",
       "8                                    Hôtel Le Colbert    8,8   \n",
       "9                     Hôtel-Restaurant Kyriad Cap Sud    8,0   \n",
       "10                                     Hotel de l'île    8,0   \n",
       "11                                   ibis Avignon Sud    7,9   \n",
       "12            Mercure Avignon Centre Palais des Papes    7,8   \n",
       "13  Hôtel restaurant d'application Lesdiguieres - ...    8,6   \n",
       "14                                    Le trente trois    9,2   \n",
       "15                                       Empire Hôtel    6,5   \n",
       "16                  Renaissance Aix-en-Provence Hotel    8,1   \n",
       "17                                      Hôtel Rotonde    8,2   \n",
       "18                                Hôtel des Augustins    8,2   \n",
       "19             TheCamp Hotel&Lodges - Aix en Provence    8,4   \n",
       "\n",
       "               Coordinates                                        Description  \\\n",
       "0   43.90489250,4.89553034  [Situé dans un parc à Avignon Sud-Montfavet, l...   \n",
       "1   43.97548368,4.82743710  [Vous pouvez bénéficier d'une réduction Genius...   \n",
       "2   43.94469660,4.80499312  [Vous pouvez bénéficier d'une réduction Genius...   \n",
       "3   43.94761833,4.80680354  [Vous pouvez bénéficier d'une réduction Genius...   \n",
       "4   43.95007660,4.80770677  [Vous pouvez bénéficier d'une réduction Genius...   \n",
       "5   43.92592594,4.85080719  [Vous pouvez bénéficier d'une réduction Genius...   \n",
       "6   43.92903200,4.78818900  [L'hotelF1 Avignon Centre Courtine gare TGV se...   \n",
       "7   43.94290138,4.79804277  [Vous pouvez bénéficier d'une réduction Genius...   \n",
       "8   43.94411137,4.80579557  [L'Hôtel Le Colbert est idéalement situé dans ...   \n",
       "9   43.92744820,4.84788895  [Vous pouvez bénéficier d'une réduction Genius...   \n",
       "10  43.95694180,4.80294510  [Situé à Avignon, à moins de 2,8 km du palais ...   \n",
       "11  43.92607107,4.84903291  [L'hôtel ibis Avignon Sud bénéficie d'un empla...   \n",
       "12  43.94990136,4.80647698  [Proposant une connexion Wi-Fi gratuite ainsi ...   \n",
       "13  45.16788300,5.71176000  [Doté d'un bar et d'une vue sur la montagne, l...   \n",
       "14  44.00964195,4.41788524  [Situé à Uzès, l'établissement Le trente trois...   \n",
       "15  43.84030089,4.36314873  [L'Empire Hôtel est situé au cœur de Nîmes, fa...   \n",
       "16  43.52624048,5.43820493  [Situé à moins de 10 minutes à pied du centre ...   \n",
       "17  43.52391014,5.44249445  [Vous pouvez bénéficier d'une réduction Genius...   \n",
       "18  43.52688664,5.44727147  [Vous pouvez bénéficier d'une réduction Genius...   \n",
       "19  43.49631600,5.34215200  [Vous pouvez bénéficier d'une réduction Genius...   \n",
       "\n",
       "                                                 Link        City_name  \n",
       "0   <200 https://www.booking.com/hotel/fr/paradoua...          Avignon  \n",
       "1   <200 https://www.booking.com/hotel/fr/logis-de...          Avignon  \n",
       "2   <200 https://www.booking.com/hotel/fr/boquier....          Avignon  \n",
       "3   <200 https://www.booking.com/hotel/fr/de-garla...          Avignon  \n",
       "4   <200 https://www.booking.com/hotel/fr/la-miran...          Avignon  \n",
       "5   <200 https://www.booking.com/hotel/fr/campanil...          Avignon  \n",
       "6   <200 https://www.booking.com/hotel/fr/hotelf1-...          Avignon  \n",
       "7   <200 https://www.booking.com/hotel/fr/au-saint...          Avignon  \n",
       "8   <200 https://www.booking.com/hotel/fr/le-colbe...          Avignon  \n",
       "9   <200 https://www.booking.com/hotel/fr/kyriad-a...          Avignon  \n",
       "10  <200 https://www.booking.com/hotel/fr/de-l-ile...          Avignon  \n",
       "11  <200 https://www.booking.com/hotel/fr/ibis-avi...          Avignon  \n",
       "12  <200 https://www.booking.com/hotel/fr/mercure-...          Avignon  \n",
       "13  <200 https://www.booking.com/hotel/fr/lesdigui...         Grenoble  \n",
       "14  <200 https://www.booking.com/hotel/fr/le-trent...             Uzes  \n",
       "15  <200 https://www.booking.com/hotel/fr/empire-n...            Nimes  \n",
       "16  <200 https://www.booking.com/hotel/fr/renaissa...  Aix en Provence  \n",
       "17  <200 https://www.booking.com/hotel/fr/rotonde....  Aix en Provence  \n",
       "18  <200 https://www.booking.com/hotel/fr/les-augu...  Aix en Provence  \n",
       "19  <200 https://www.booking.com/hotel/fr/thecamp-...  Aix en Provence  "
      ]
     },
     "execution_count": 53,
     "metadata": {},
     "output_type": "execute_result"
    }
   ],
   "source": [
    "del df[\"City\"]\n",
    "df.head(20)"
   ]
  },
  {
   "cell_type": "code",
   "execution_count": 54,
   "metadata": {},
   "outputs": [],
   "source": [
    "#transforming string columns into float type when relevant\n",
    "df['Rating'] = df['Rating'].str.replace(',','.')\n",
    "df[\"Rating\"] = pd.to_numeric(df[\"Rating\"], downcast=\"float\")"
   ]
  },
  {
   "cell_type": "code",
   "execution_count": 55,
   "metadata": {},
   "outputs": [
    {
     "data": {
      "text/plain": [
       "[\"Situé dans un parc à Avignon Sud-Montfavet, le Best Western Hôtel Le Paradou Avignon Sud. propose une connexion Wi-Fi gratuite disponible dans l'ensemble de l'établissement. Vous séjournerez à 15 minutes en voiture du centre-ville d'Avignon.\",\n",
       " \"Offrant une vue sur la piscine ou le jardin, les chambres insonorisées et climatisées possèdent une télévision par câble. Leur salle de bains privative est pourvue d'une baignoire, d'articles de toilette mis gracieusement à votre disposition et d'un sèche-cheveux.\",\n",
       " \"L'hôtel comporte un restaurant préparant des plats provençaux variés et un bar.\",\n",
       " \"La région est appréciée pour le golf. L'aéroport d'Avignon-Provence est installé à proximité. Vous bénéficierez gratuitement d'un parking privé sur place. \",\n",
       " '\\n',\n",
       " '\\nChaîne hôtelière/marque:\\nBest Western\\n']"
      ]
     },
     "execution_count": 55,
     "metadata": {},
     "output_type": "execute_result"
    }
   ],
   "source": [
    "df.iloc[0,3]"
   ]
  },
  {
   "cell_type": "code",
   "execution_count": 56,
   "metadata": {},
   "outputs": [],
   "source": [
    "#creating gps coordinates columns from Coordinates \n",
    "df[['Hotel_latitude', 'Hotel_longitude']] = df['Coordinates'].str.split(',', expand=True)\n",
    "df[\"Hotel_latitude\"] = pd.to_numeric(df[\"Hotel_latitude\"], downcast=\"float\")\n",
    "df[\"Hotel_longitude\"] = pd.to_numeric(df[\"Hotel_longitude\"], downcast=\"float\")"
   ]
  },
  {
   "cell_type": "code",
   "execution_count": 57,
   "metadata": {},
   "outputs": [],
   "source": [
    "#cleaning text columns\n",
    "df[\"Description\"]= df[\"Description\"].str.join(\" \").str.strip().str.replace(\"\\n\",\"\")"
   ]
  },
  {
   "cell_type": "code",
   "execution_count": 58,
   "metadata": {},
   "outputs": [
    {
     "data": {
      "text/plain": [
       "\"Situé dans un parc à Avignon Sud-Montfavet, le Best Western Hôtel Le Paradou Avignon Sud. propose une connexion Wi-Fi gratuite disponible dans l'ensemble de l'établissement. Vous séjournerez à 15 minutes en voiture du centre-ville d'Avignon. Offrant une vue sur la piscine ou le jardin, les chambres insonorisées et climatisées possèdent une télévision par câble. Leur salle de bains privative est pourvue d'une baignoire, d'articles de toilette mis gracieusement à votre disposition et d'un sèche-cheveux. L'hôtel comporte un restaurant préparant des plats provençaux variés et un bar. La région est appréciée pour le golf. L'aéroport d'Avignon-Provence est installé à proximité. Vous bénéficierez gratuitement d'un parking privé sur place.   Chaîne hôtelière/marque:Best Western\""
      ]
     },
     "execution_count": 58,
     "metadata": {},
     "output_type": "execute_result"
    }
   ],
   "source": [
    "df.iloc[0,3]"
   ]
  },
  {
   "cell_type": "code",
   "execution_count": 59,
   "metadata": {},
   "outputs": [
    {
     "data": {
      "text/plain": [
       "'<200 https://www.booking.com/hotel/fr/paradouavignon.fr.html?label=gen173nr-1FCAMoTUIHYXZpZ25vbkgNWARoFYgBAZgBDbgBGMgBDNgBAegBAfgBAogCAagCBLgC16aNlAbAAgHSAiRlMTQxMjQzMi02NWNmLTQ2NGYtOWNlNS04Mjc0ZDg2ZjJlNjHYAgXgAgE&sid=ef4c1fc0086d64b80e070d87330090f5>'"
      ]
     },
     "execution_count": 59,
     "metadata": {},
     "output_type": "execute_result"
    }
   ],
   "source": [
    "df.iloc[0,4]"
   ]
  },
  {
   "cell_type": "code",
   "execution_count": 60,
   "metadata": {},
   "outputs": [],
   "source": [
    "df[\"Link\"]= df[\"Link\"].str.replace(\"<200\", \"\").str.replace(\">\", \"\")"
   ]
  },
  {
   "cell_type": "code",
   "execution_count": 61,
   "metadata": {},
   "outputs": [
    {
     "data": {
      "text/plain": [
       "' https://www.booking.com/hotel/fr/paradouavignon.fr.html?label=gen173nr-1FCAMoTUIHYXZpZ25vbkgNWARoFYgBAZgBDbgBGMgBDNgBAegBAfgBAogCAagCBLgC16aNlAbAAgHSAiRlMTQxMjQzMi02NWNmLTQ2NGYtOWNlNS04Mjc0ZDg2ZjJlNjHYAgXgAgE&sid=ef4c1fc0086d64b80e070d87330090f5'"
      ]
     },
     "execution_count": 61,
     "metadata": {},
     "output_type": "execute_result"
    }
   ],
   "source": [
    "df.iloc[0,4]"
   ]
  },
  {
   "cell_type": "code",
   "execution_count": 62,
   "metadata": {},
   "outputs": [],
   "source": [
    " #deleting useless columns\n",
    "del df['Coordinates']"
   ]
  },
  {
   "cell_type": "code",
   "execution_count": 63,
   "metadata": {},
   "outputs": [
    {
     "data": {
      "text/html": [
       "<div>\n",
       "<style scoped>\n",
       "    .dataframe tbody tr th:only-of-type {\n",
       "        vertical-align: middle;\n",
       "    }\n",
       "\n",
       "    .dataframe tbody tr th {\n",
       "        vertical-align: top;\n",
       "    }\n",
       "\n",
       "    .dataframe thead th {\n",
       "        text-align: right;\n",
       "    }\n",
       "</style>\n",
       "<table border=\"1\" class=\"dataframe\">\n",
       "  <thead>\n",
       "    <tr style=\"text-align: right;\">\n",
       "      <th></th>\n",
       "      <th>Hotel_name</th>\n",
       "      <th>Rating</th>\n",
       "      <th>Description</th>\n",
       "      <th>Link</th>\n",
       "      <th>City_name</th>\n",
       "      <th>Hotel_latitude</th>\n",
       "      <th>Hotel_longitude</th>\n",
       "    </tr>\n",
       "  </thead>\n",
       "  <tbody>\n",
       "    <tr>\n",
       "      <th>0</th>\n",
       "      <td>Best Western Hôtel Le Paradou Avignon Sud.</td>\n",
       "      <td>7.9</td>\n",
       "      <td>Situé dans un parc à Avignon Sud-Montfavet, le...</td>\n",
       "      <td>https://www.booking.com/hotel/fr/paradouavign...</td>\n",
       "      <td>Avignon</td>\n",
       "      <td>43.904892</td>\n",
       "      <td>4.895530</td>\n",
       "    </tr>\n",
       "    <tr>\n",
       "      <th>1</th>\n",
       "      <td>Hotel Restaurant la Ferme</td>\n",
       "      <td>8.5</td>\n",
       "      <td>Vous pouvez bénéficier d'une réduction Genius ...</td>\n",
       "      <td>https://www.booking.com/hotel/fr/logis-de-fra...</td>\n",
       "      <td>Avignon</td>\n",
       "      <td>43.975483</td>\n",
       "      <td>4.827437</td>\n",
       "    </tr>\n",
       "    <tr>\n",
       "      <th>2</th>\n",
       "      <td>Hotel Boquier</td>\n",
       "      <td>8.6</td>\n",
       "      <td>Vous pouvez bénéficier d'une réduction Genius ...</td>\n",
       "      <td>https://www.booking.com/hotel/fr/boquier.fr.h...</td>\n",
       "      <td>Avignon</td>\n",
       "      <td>43.944698</td>\n",
       "      <td>4.804993</td>\n",
       "    </tr>\n",
       "    <tr>\n",
       "      <th>3</th>\n",
       "      <td>Garlande Hôtel Avignon Centre</td>\n",
       "      <td>8.9</td>\n",
       "      <td>Vous pouvez bénéficier d'une réduction Genius ...</td>\n",
       "      <td>https://www.booking.com/hotel/fr/de-garlande....</td>\n",
       "      <td>Avignon</td>\n",
       "      <td>43.947617</td>\n",
       "      <td>4.806804</td>\n",
       "    </tr>\n",
       "    <tr>\n",
       "      <th>4</th>\n",
       "      <td>La Mirande</td>\n",
       "      <td>8.9</td>\n",
       "      <td>Vous pouvez bénéficier d'une réduction Genius ...</td>\n",
       "      <td>https://www.booking.com/hotel/fr/la-mirande.f...</td>\n",
       "      <td>Avignon</td>\n",
       "      <td>43.950077</td>\n",
       "      <td>4.807707</td>\n",
       "    </tr>\n",
       "  </tbody>\n",
       "</table>\n",
       "</div>"
      ],
      "text/plain": [
       "                                   Hotel_name  Rating  \\\n",
       "0  Best Western Hôtel Le Paradou Avignon Sud.     7.9   \n",
       "1                   Hotel Restaurant la Ferme     8.5   \n",
       "2                               Hotel Boquier     8.6   \n",
       "3               Garlande Hôtel Avignon Centre     8.9   \n",
       "4                                  La Mirande     8.9   \n",
       "\n",
       "                                         Description  \\\n",
       "0  Situé dans un parc à Avignon Sud-Montfavet, le...   \n",
       "1  Vous pouvez bénéficier d'une réduction Genius ...   \n",
       "2  Vous pouvez bénéficier d'une réduction Genius ...   \n",
       "3  Vous pouvez bénéficier d'une réduction Genius ...   \n",
       "4  Vous pouvez bénéficier d'une réduction Genius ...   \n",
       "\n",
       "                                                Link City_name  \\\n",
       "0   https://www.booking.com/hotel/fr/paradouavign...   Avignon   \n",
       "1   https://www.booking.com/hotel/fr/logis-de-fra...   Avignon   \n",
       "2   https://www.booking.com/hotel/fr/boquier.fr.h...   Avignon   \n",
       "3   https://www.booking.com/hotel/fr/de-garlande....   Avignon   \n",
       "4   https://www.booking.com/hotel/fr/la-mirande.f...   Avignon   \n",
       "\n",
       "   Hotel_latitude  Hotel_longitude  \n",
       "0       43.904892         4.895530  \n",
       "1       43.975483         4.827437  \n",
       "2       43.944698         4.804993  \n",
       "3       43.947617         4.806804  \n",
       "4       43.950077         4.807707  "
      ]
     },
     "execution_count": 63,
     "metadata": {},
     "output_type": "execute_result"
    }
   ],
   "source": [
    "df.head()"
   ]
  },
  {
   "cell_type": "code",
   "execution_count": 64,
   "metadata": {},
   "outputs": [],
   "source": [
    "#re arranging columns in dataframe\n",
    "df = df.reindex(['City_name','Hotel_name','Rating', 'Hotel_latitude', 'Hotel_longitude', 'Description', 'Link'], axis=1)"
   ]
  },
  {
   "cell_type": "code",
   "execution_count": 65,
   "metadata": {},
   "outputs": [
    {
     "data": {
      "text/html": [
       "<div>\n",
       "<style scoped>\n",
       "    .dataframe tbody tr th:only-of-type {\n",
       "        vertical-align: middle;\n",
       "    }\n",
       "\n",
       "    .dataframe tbody tr th {\n",
       "        vertical-align: top;\n",
       "    }\n",
       "\n",
       "    .dataframe thead th {\n",
       "        text-align: right;\n",
       "    }\n",
       "</style>\n",
       "<table border=\"1\" class=\"dataframe\">\n",
       "  <thead>\n",
       "    <tr style=\"text-align: right;\">\n",
       "      <th></th>\n",
       "      <th>City_name</th>\n",
       "      <th>Hotel_name</th>\n",
       "      <th>Rating</th>\n",
       "      <th>Hotel_latitude</th>\n",
       "      <th>Hotel_longitude</th>\n",
       "      <th>Description</th>\n",
       "      <th>Link</th>\n",
       "    </tr>\n",
       "  </thead>\n",
       "  <tbody>\n",
       "    <tr>\n",
       "      <th>0</th>\n",
       "      <td>Avignon</td>\n",
       "      <td>Best Western Hôtel Le Paradou Avignon Sud.</td>\n",
       "      <td>7.9</td>\n",
       "      <td>43.904892</td>\n",
       "      <td>4.895530</td>\n",
       "      <td>Situé dans un parc à Avignon Sud-Montfavet, le...</td>\n",
       "      <td>https://www.booking.com/hotel/fr/paradouavign...</td>\n",
       "    </tr>\n",
       "    <tr>\n",
       "      <th>1</th>\n",
       "      <td>Avignon</td>\n",
       "      <td>Hotel Restaurant la Ferme</td>\n",
       "      <td>8.5</td>\n",
       "      <td>43.975483</td>\n",
       "      <td>4.827437</td>\n",
       "      <td>Vous pouvez bénéficier d'une réduction Genius ...</td>\n",
       "      <td>https://www.booking.com/hotel/fr/logis-de-fra...</td>\n",
       "    </tr>\n",
       "    <tr>\n",
       "      <th>2</th>\n",
       "      <td>Avignon</td>\n",
       "      <td>Hotel Boquier</td>\n",
       "      <td>8.6</td>\n",
       "      <td>43.944698</td>\n",
       "      <td>4.804993</td>\n",
       "      <td>Vous pouvez bénéficier d'une réduction Genius ...</td>\n",
       "      <td>https://www.booking.com/hotel/fr/boquier.fr.h...</td>\n",
       "    </tr>\n",
       "    <tr>\n",
       "      <th>3</th>\n",
       "      <td>Avignon</td>\n",
       "      <td>Garlande Hôtel Avignon Centre</td>\n",
       "      <td>8.9</td>\n",
       "      <td>43.947617</td>\n",
       "      <td>4.806804</td>\n",
       "      <td>Vous pouvez bénéficier d'une réduction Genius ...</td>\n",
       "      <td>https://www.booking.com/hotel/fr/de-garlande....</td>\n",
       "    </tr>\n",
       "    <tr>\n",
       "      <th>4</th>\n",
       "      <td>Avignon</td>\n",
       "      <td>La Mirande</td>\n",
       "      <td>8.9</td>\n",
       "      <td>43.950077</td>\n",
       "      <td>4.807707</td>\n",
       "      <td>Vous pouvez bénéficier d'une réduction Genius ...</td>\n",
       "      <td>https://www.booking.com/hotel/fr/la-mirande.f...</td>\n",
       "    </tr>\n",
       "  </tbody>\n",
       "</table>\n",
       "</div>"
      ],
      "text/plain": [
       "  City_name                                  Hotel_name  Rating  \\\n",
       "0   Avignon  Best Western Hôtel Le Paradou Avignon Sud.     7.9   \n",
       "1   Avignon                   Hotel Restaurant la Ferme     8.5   \n",
       "2   Avignon                               Hotel Boquier     8.6   \n",
       "3   Avignon               Garlande Hôtel Avignon Centre     8.9   \n",
       "4   Avignon                                  La Mirande     8.9   \n",
       "\n",
       "   Hotel_latitude  Hotel_longitude  \\\n",
       "0       43.904892         4.895530   \n",
       "1       43.975483         4.827437   \n",
       "2       43.944698         4.804993   \n",
       "3       43.947617         4.806804   \n",
       "4       43.950077         4.807707   \n",
       "\n",
       "                                         Description  \\\n",
       "0  Situé dans un parc à Avignon Sud-Montfavet, le...   \n",
       "1  Vous pouvez bénéficier d'une réduction Genius ...   \n",
       "2  Vous pouvez bénéficier d'une réduction Genius ...   \n",
       "3  Vous pouvez bénéficier d'une réduction Genius ...   \n",
       "4  Vous pouvez bénéficier d'une réduction Genius ...   \n",
       "\n",
       "                                                Link  \n",
       "0   https://www.booking.com/hotel/fr/paradouavign...  \n",
       "1   https://www.booking.com/hotel/fr/logis-de-fra...  \n",
       "2   https://www.booking.com/hotel/fr/boquier.fr.h...  \n",
       "3   https://www.booking.com/hotel/fr/de-garlande....  \n",
       "4   https://www.booking.com/hotel/fr/la-mirande.f...  "
      ]
     },
     "execution_count": 65,
     "metadata": {},
     "output_type": "execute_result"
    }
   ],
   "source": [
    "df.head()"
   ]
  },
  {
   "cell_type": "markdown",
   "metadata": {
    "tags": []
   },
   "source": [
    "## IV- ETL process"
   ]
  },
  {
   "cell_type": "code",
   "execution_count": 62,
   "metadata": {},
   "outputs": [
    {
     "name": "stdout",
     "output_type": "stream",
     "text": [
      "Collecting Boto3\n",
      "  Downloading boto3-1.23.0-py3-none-any.whl (132 kB)\n",
      "     |████████████████████████████████| 132 kB 9.4 MB/s            \n",
      "\u001b[?25hCollecting s3transfer<0.6.0,>=0.5.0\n",
      "  Downloading s3transfer-0.5.2-py3-none-any.whl (79 kB)\n",
      "     |████████████████████████████████| 79 kB 8.4 MB/s             \n",
      "\u001b[?25hRequirement already satisfied: jmespath<2.0.0,>=0.7.1 in /opt/conda/lib/python3.9/site-packages (from Boto3) (1.0.0)\n",
      "Collecting botocore<1.27.0,>=1.26.0\n",
      "  Downloading botocore-1.26.0-py3-none-any.whl (8.7 MB)\n",
      "     |████████████████████████████████| 8.7 MB 51.3 MB/s            \n",
      "\u001b[?25hRequirement already satisfied: urllib3<1.27,>=1.25.4 in /opt/conda/lib/python3.9/site-packages (from botocore<1.27.0,>=1.26.0->Boto3) (1.26.8)\n",
      "Requirement already satisfied: python-dateutil<3.0.0,>=2.1 in /opt/conda/lib/python3.9/site-packages (from botocore<1.27.0,>=1.26.0->Boto3) (2.8.2)\n",
      "Requirement already satisfied: six>=1.5 in /opt/conda/lib/python3.9/site-packages (from python-dateutil<3.0.0,>=2.1->botocore<1.27.0,>=1.26.0->Boto3) (1.16.0)\n",
      "Installing collected packages: botocore, s3transfer, Boto3\n",
      "Successfully installed Boto3-1.23.0 botocore-1.26.0 s3transfer-0.5.2\n"
     ]
    }
   ],
   "source": [
    "# Install boto3 using pip \n",
    "!pip install Boto3\n",
    "import boto3"
   ]
  },
  {
   "cell_type": "code",
   "execution_count": 63,
   "metadata": {},
   "outputs": [],
   "source": [
    "#set up a AWS session with Boto3\n",
    "session = boto3.Session(aws_access_key_id=\"xxxxxx\", \n",
    "                        aws_secret_access_key=\"xxxxxx\")"
   ]
  },
  {
   "cell_type": "code",
   "execution_count": 65,
   "metadata": {},
   "outputs": [],
   "source": [
    "#set up an S3 ressource\n",
    "s3 = session.resource(\"s3\")"
   ]
  },
  {
   "cell_type": "code",
   "execution_count": 68,
   "metadata": {},
   "outputs": [],
   "source": [
    "#create a bucket to store data \n",
    "BUCKET_NAME = \"kayak-datalake-an22\"\n",
    "bucket = s3.create_bucket(Bucket=BUCKET_NAME)"
   ]
  },
  {
   "cell_type": "code",
   "execution_count": 69,
   "metadata": {},
   "outputs": [],
   "source": [
    "put_object1 = bucket.put_object(Key=\"cities_weather.csv\", Body=\"cities_weather.csv\")"
   ]
  },
  {
   "cell_type": "code",
   "execution_count": 70,
   "metadata": {},
   "outputs": [],
   "source": [
    "put_object2 = bucket.put_object(Key=\"booking_data.csv\", Body=\"booking_data.csv\")"
   ]
  },
  {
   "cell_type": "markdown",
   "metadata": {
    "tags": []
   },
   "source": [
    "## V- Visulization"
   ]
  },
  {
   "cell_type": "code",
   "execution_count": 73,
   "metadata": {},
   "outputs": [
    {
     "data": {
      "text/html": [
       "<iframe\n",
       "    scrolling=\"no\"\n",
       "    width=\"100%\"\n",
       "    height=\"545px\"\n",
       "    src=\"iframe_figures/figure_73.html\"\n",
       "    frameborder=\"0\"\n",
       "    allowfullscreen\n",
       "></iframe>\n"
      ]
     },
     "metadata": {},
     "output_type": "display_data"
    }
   ],
   "source": [
    "#visualizing for each city in the top 5 cities the best ranked hotels\n",
    "\n",
    "fig = px.scatter_mapbox(df, lat=\"Hotel_latitude\", lon=\"Hotel_longitude\", color=\"Rating\", zoom =10,\n",
    "                        mapbox_style=\"open-street-map\", color_continuous_scale = 'Reds', range_color = [5.0,10.0],\n",
    "                       animation_frame = 'City_name')\n",
    "fig.show()"
   ]
  },
  {
   "cell_type": "code",
   "execution_count": null,
   "metadata": {},
   "outputs": [],
   "source": []
  }
 ],
 "metadata": {
  "kernelspec": {
   "display_name": "Python 3 (ipykernel)",
   "language": "python",
   "name": "python3"
  },
  "language_info": {
   "codemirror_mode": {
    "name": "ipython",
    "version": 3
   },
   "file_extension": ".py",
   "mimetype": "text/x-python",
   "name": "python",
   "nbconvert_exporter": "python",
   "pygments_lexer": "ipython3",
   "version": "3.9.7"
  }
 },
 "nbformat": 4,
 "nbformat_minor": 4
}
